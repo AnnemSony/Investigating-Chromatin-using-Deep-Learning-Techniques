{
 "cells": [
  {
   "cell_type": "code",
   "execution_count": 130,
   "metadata": {},
   "outputs": [],
   "source": [
    "import matplotlib.pyplot as plt\n",
    "import os\n",
    "import numpy as np\n",
    "import json\n",
    "from skimage import io\n",
    "from skimage.filters import roberts, sobel, scharr, prewitt"
   ]
  },
  {
   "cell_type": "code",
   "execution_count": 131,
   "metadata": {
    "id": "t1VIxANanG_-"
   },
   "outputs": [],
   "source": [
    "data_dir = 'Trainfile path'\n",
    "validation_dir= 'testfilepath'\n",
    "\n",
    "#test_dir='test/'\n",
    "validation_cut = 0.2\n",
    "fov=1.0\n",
    "#fov = 0.33"
   ]
  },
  {
   "cell_type": "code",
   "execution_count": 132,
   "metadata": {
    "id": "FTCwULFrnHAB"
   },
   "outputs": [],
   "source": [
    "import math\n",
    "def foveate(image, fov = fov):\n",
    "    if not fov:\n",
    "        return image\n",
    "    centerx = image[1].shape[1]/2\n",
    "    centery = image[1].shape[2]/2\n",
    "    fov_pos = []\n",
    "    for x,y in image[0]['XY']:\n",
    "        if (math.sqrt((x-centerx)**2+(y-centery)**2) < fov * math.sqrt(centerx**2+centery**2)):\n",
    "            fov_pos.append([x,y])\n",
    "    image[0]['XY'] = fov_pos\n",
    "    return image"
   ]
  },
  {
   "cell_type": "code",
   "execution_count": 133,
   "metadata": {
    "id": "gAqSeAytnHAC"
   },
   "outputs": [
    {
     "name": "stdout",
     "output_type": "stream",
     "text": [
      "Indexing data directory\n"
     ]
    }
   ],
   "source": [
    "# Load training data\n",
    "import matplotlib.pyplot as plt\n",
    "import os\n",
    "import numpy as np\n",
    "import json\n",
    "from skimage import io\n",
    "\n",
    "print(\"Indexing data directory\")\n",
    "\n",
    "images = []\n",
    "\n",
    "for filename in os.listdir(data_dir):\n",
    "    if filename.endswith(\".tif\") and \\\n",
    "    os.path.isfile(os.path.join(data_dir, filename +'.json')):\n",
    "        \n",
    "        img = io.imread(os.path.join(data_dir, filename))\n",
    "        with open(os.path.join(data_dir, filename +'.json'), 'r') as fp:\n",
    "            d = json.load(fp)\n",
    "        images.append(foveate([d, img]))\n",
    "        print(images)\n",
    "        \n",
    "       # print(\"Loaded \" + filename)"
   ]
  },
  {
   "cell_type": "code",
   "execution_count": 134,
   "metadata": {
    "id": "uRV3S9JDnHAC"
   },
   "outputs": [
    {
     "name": "stdout",
     "output_type": "stream",
     "text": [
      "Indexing validation data directory\n",
      "Loaded 11.30.21_SPP_Fov8_1_NDTiffStack (1).tif\n"
     ]
    }
   ],
   "source": [
    "import random\n",
    "import copy\n",
    "\n",
    "validationimages = []\n",
    "\n",
    "if validation_dir:\n",
    "\n",
    "    print(\"Indexing validation data directory\")\n",
    "\n",
    "    for filename in os.listdir(validation_dir):\n",
    "        if filename.endswith(\".tif\") and \\\n",
    "        os.path.isfile(os.path.join(validation_dir, filename +'.json')):\n",
    "\n",
    "            validationimg = io.imread(os.path.join(validation_dir, filename))\n",
    "            with open(os.path.join(validation_dir, filename +'.json'), 'r') as fp:\n",
    "                d = json.load(fp)\n",
    "            validationimages.append(foveate([d, validationimg]))\n",
    "            print(\"Loaded \" + filename)\n",
    "else:\n",
    "    print(\"Doing train/test split\")\n",
    "    ntrain = 0\n",
    "    ntest = 0\n",
    "    for i in range(len(images)):\n",
    "        train = []\n",
    "        test = []\n",
    "        shuffled = images[i][0]['XY']\n",
    "        random.shuffle(shuffled)\n",
    "        frac = int(math.ceil(len(shuffled)*validation_cut))\n",
    "        test = shuffled[:frac]\n",
    "        ntest += len(test)\n",
    "        train = shuffled[frac:]\n",
    "        ntrain += len(train)\n",
    "        valimg = copy.deepcopy(images[i])\n",
    "        images[i][0]['XY'] = train\n",
    "        valimg[0]['XY'] = test\n",
    "        validationimages.append(valimg)\n",
    "    print(\"Total of {} training, {} testing spots...\".format(ntrain, ntest))\n",
    "        "
   ]
  },
  {
   "cell_type": "code",
   "execution_count": 135,
   "metadata": {
    "collapsed": true
   },
   "outputs": [
    {
     "name": "stdout",
     "output_type": "stream",
     "text": [
      "[{'XY': [[307.6484266469546, 386.765335253559]], 'Z': {'0': '17.98440497622342', '1': '17.936170211174467', '2': '17.88636491424136', '3': '17.83852554134603', '4': '17.788919237628747', '5': '17.73086675690216', '6': '17.681754355188545', '7': '17.635589843000787', '8': '17.583729759410595', '9': '17.52764779828279', '10': '17.484629821947763', '11': '17.436604045462563', '12': '17.390347222078606', '13': '17.334958356547272', '14': '17.28683811904829', '15': '17.234300057152655', '16': '17.177933714013246', '17': '17.131192150445617', '18': '17.08749570885637', '19': '17.03083910965764', '20': '16.98223555966236', '21': '16.930687684957558', '22': '16.88405032504755', '23': '16.831916009005475', '24': '16.783513851220224', '25': '16.73167678883835', '26': '16.68789127110267', '27': '16.635565940720742', '28': '16.584420044887725', '29': '16.537005778971896', '30': '16.485666184273985', '31': '16.434916922280575', '32': '16.380733504256064', '33': '16.333324267426516', '34': '16.286014354949728', '35': '16.233601827918466', '36': '16.1843314319919', '37': '16.138104778588847', '38': '16.083733452845276', '39': '16.038883175156865', '40': '15.980294784813156', '41': '15.934367446652958', '42': '15.881179465952078', '43': '15.82691354329134', '44': '15.786681209143362', '45': '15.730847979990601', '46': '15.684337875594128', '47': '15.63243236283403', '48': '15.58268680921929', '49': '15.532942542810098', '50': '15.486437232546896', '51': '15.436597350676509', '52': '15.38881899558757', '53': '15.339275954272743', '54': '15.291107612750697', '55': '15.237152654029309', '56': '15.184376362086814', '57': '15.13670237468138', '58': '15.087950564778255', '59': '15.028312205299006', '60': '14.983878909605426', '61': '14.935817559825459', '62': '14.884520753125884', '63': '14.840679251390954', '64': '14.791738803199562', '65': '14.741426575518629', '66': '14.686996699949043', '67': '14.634039381606657', '68': '14.595989469898344', '69': '14.539798581926169', '70': '14.490963857126358', '71': '14.44703327370511', '72': '14.387316755404681', '73': '14.338093688961475', '74': '14.284361587025481', '75': '14.227297386767711', '76': '14.182882608331486', '77': '14.132096107528582', '78': '14.091212966693654', '79': '14.036507393854777', '80': '13.98719528118678', '81': '13.93562969165738', '82': '13.891515743052876', '83': '13.841423130636917', '84': '13.789175280584109', '85': '13.746633050546496', '86': '13.691153124666217', '87': '13.636851003239705', '88': '13.594312143355141', '89': '13.537464446921614', '90': '13.485028838185563', '91': '13.437004955945762', '92': '13.388394247377317', '93': '13.33508068993071', '94': '13.290490524652812', '95': '13.235317746080904', '96': '13.186614142169386', '97': '13.134580065201039', '98': '13.08156750956008', '99': '13.037179192571275', '100': '12.984463273772507', '101': '12.93801958925139', '102': '12.889323514083227', '103': '12.830243210788952', '104': '12.788799901915576', '105': '12.733935430552128', '106': '12.682501408896604', '107': '12.635085357686512', '108': '12.583653977905593', '109': '12.532419896083178', '110': '12.483048381423682', '111': '12.436322936944462', '112': '12.379313554624671', '113': '12.333080380595243', '114': '12.285379096433767', '115': '12.229941310565623', '116': '12.1869438420764', '117': '12.133369755584418', '118': '12.08606517516504', '119': '12.031612480153278', '120': '11.982351748308883', '121': '11.931623327009824'}}, array([[[2775, 2742, 2908, ..., 2201, 2269, 2217],\n",
      "        [2747, 2758, 2785, ..., 2181, 2208, 2381],\n",
      "        [2794, 2827, 2714, ..., 2333, 2254, 1996],\n",
      "        ...,\n",
      "        [2381, 2285, 2394, ..., 2903, 2909, 2929],\n",
      "        [2249, 2099, 2182, ..., 2771, 2723, 2799],\n",
      "        [ 808,  788,  790, ...,  788,  790,  885]],\n",
      "\n",
      "       [[2410, 2901, 2784, ..., 2139, 2068, 2018],\n",
      "        [3017, 2660, 2900, ..., 2231, 2274, 2102],\n",
      "        [2551, 2771, 2757, ..., 2164, 2158, 2049],\n",
      "        ...,\n",
      "        [2191, 2135, 2191, ..., 2789, 2736, 2949],\n",
      "        [2182, 2166, 2086, ..., 2870, 2859, 2828],\n",
      "        [ 733,  843,  781, ...,  843,  781,  833]],\n",
      "\n",
      "       [[2614, 2475, 2687, ..., 2228, 2348, 2047],\n",
      "        [2560, 2793, 2852, ..., 2213, 2172, 2292],\n",
      "        [2753, 2450, 2608, ..., 2184, 2288, 2027],\n",
      "        ...,\n",
      "        [2364, 1955, 2296, ..., 2970, 2907, 2758],\n",
      "        [2274, 2428, 2170, ..., 2967, 2844, 2888],\n",
      "        [ 810,  688,  678, ...,  688,  678,  677]],\n",
      "\n",
      "       ...,\n",
      "\n",
      "       [[1890, 1840, 1762, ..., 1689, 1791, 1750],\n",
      "        [1753, 1710, 1926, ..., 1841, 1872, 1751],\n",
      "        [1689, 1871, 1890, ..., 1785, 1952, 1813],\n",
      "        ...,\n",
      "        [1807, 1837, 1976, ..., 2107, 2107, 2151],\n",
      "        [1809, 1954, 1889, ..., 2273, 2303, 2177],\n",
      "        [ 621,  762,  703, ...,  762,  703,  706]],\n",
      "\n",
      "       [[1802, 1783, 1732, ..., 1859, 1848, 1909],\n",
      "        [1850, 1841, 1883, ..., 1865, 1859, 1730],\n",
      "        [1848, 1970, 1877, ..., 1878, 1782, 1894],\n",
      "        ...,\n",
      "        [1959, 1932, 1848, ..., 2186, 2183, 2219],\n",
      "        [1998, 1893, 1790, ..., 2064, 2033, 2118],\n",
      "        [ 660,  769,  702, ...,  769,  702,  694]],\n",
      "\n",
      "       [[1802, 1713, 1849, ..., 1764, 1721, 1698],\n",
      "        [1841, 1982, 1846, ..., 1957, 1908, 1903],\n",
      "        [1725, 2032, 1921, ..., 1582, 2004, 1858],\n",
      "        ...,\n",
      "        [1778, 1907, 1866, ..., 2153, 2104, 2197],\n",
      "        [1901, 1851, 1860, ..., 1985, 2257, 1885],\n",
      "        [ 627,  729,  666, ...,  729,  666,  747]]], dtype=uint16)]\n"
     ]
    }
   ],
   "source": [
    "print(foveate([d, validationimg]))"
   ]
  },
  {
   "cell_type": "code",
   "execution_count": 136,
   "metadata": {
    "id": "TLaOd3iLnHAD"
   },
   "outputs": [],
   "source": [
    "def tile_generator(images,bs, input_size, shift, shuffle = True):\n",
    "    if shift<1:\n",
    "        shift = int(input_size*shift)\n",
    "       # print(images)\n",
    "        \n",
    "    n_stacks = len(images)\n",
    "    c_stack = c_spot = c_depth = 0\n",
    "    \n",
    "    while True:\n",
    "        inputs = []\n",
    "        targets = []\n",
    "        while len(inputs) < bs:\n",
    "            if shuffle:\n",
    "                stack = random.choice(images)\n",
    "                X, Y = random.choice(stack[0]['XY'])\n",
    "                c = random.choice(list(stack[0]['Z'].items()))\n",
    "                imgnum = int(c[0])\n",
    "               # print(imgnum)\n",
    "                Z = float(c[1])\n",
    "            else:\n",
    "                stack = images[c_stack]\n",
    "                X, Y = stack[0]['XY'][c_spot]\n",
    "                c = list(stack[0]['Z'].items())[c_depth]\n",
    "                imgnum = int(c[0])\n",
    "                Z = float(c[1])\n",
    "                \n",
    "                n_spots = len(stack[0]['XY'])\n",
    "                n_depths = len(stack[0]['Z'])\n",
    "                \n",
    "                c_depth += 1\n",
    "                \n",
    "                # Move to next spot if all depths have been consumed\n",
    "                if c_depth == n_depths:\n",
    "                    c_depth = 0\n",
    "                    c_spot += 1\n",
    "                    \n",
    "                    # Move to next stack if all spots have been consumed\n",
    "                    if c_spot == n_spots:\n",
    "                        c_spot = 0\n",
    "                        c_stack += 1\n",
    "                        \n",
    "                        # Start a new epoch if all stacks have been consumed\n",
    "                        if c_stack == n_stacks:\n",
    "                            c_stack = 0\n",
    "            \n",
    "            xcrop, ycrop = tuple(int(p + random.uniform(-1*shift, shift)) for p in (X, Y))\n",
    "            img = stack[1][imgnum][ycrop-input_size//2:ycrop+(input_size-input_size//2), \\\n",
    "                                  xcrop-input_size//2:xcrop+(input_size-input_size//2)]\n",
    "\n",
    "            x_train = (X - (xcrop-input_size//2))/input_size\n",
    "            #print(x_train)\n",
    "            y_train = (Y - (ycrop-input_size//2))/input_size\n",
    "            z_vals = [float(v) for v in list(stack[0]['Z'].values())]\n",
    "            z_train = (Z - min(z_vals)) / ((max(z_vals)-min(z_vals))/2) - 1\n",
    "            try:\n",
    "                # normalize image\n",
    "                img = np.divide(img,np.max(img))\n",
    "                img.reshape(input_size, input_size, 1)\n",
    "            except:\n",
    "                import pdb;pdb.set_trace()\n",
    "            inputs.append(img.reshape(input_size, input_size, 1))\n",
    "            targets.append(np.array([x_train, y_train, z_train]))\n",
    "            #print(x_train)\n",
    "        yield(np.array(inputs),np.array(targets))"
   ]
  },
  {
   "cell_type": "code",
   "execution_count": 137,
   "metadata": {
    "id": "V2uk59vRnHAE"
   },
   "outputs": [],
   "source": [
    "# Instantiate generators\n",
    "\n",
    "input_size = 64\n",
    "datagen = tile_generator(images, 32, input_size, .2)\n",
    "validationdatagen = tile_generator(validationimages, 32, input_size, .2)\n",
    "#print(datagen)"
   ]
  },
  {
   "cell_type": "code",
   "execution_count": null,
   "metadata": {},
   "outputs": [],
   "source": []
  },
  {
   "cell_type": "code",
   "execution_count": 11,
   "metadata": {
    "id": "XD33mEnAnHAE"
   },
   "outputs": [],
   "source": [
    "# compile model, based on https://www.pyimagesearch.com/2019/01/28/keras-regression-and-cnns/\n",
    "from keras.models import Sequential\n",
    "from keras.layers import *\n",
    "\n",
    "model = Sequential()\n",
    "\n",
    "model.add(Conv2D(16, kernel_size=(3, 3), activation='relu', input_shape=(input_size,input_size,1)))\n",
    "model.add(BatchNormalization(axis=-1))\n",
    "model.add(MaxPooling2D(pool_size=(2,2)))\n",
    "\n",
    "model.add(Conv2D(32, kernel_size=(3, 3), activation='relu'))\n",
    "model.add(BatchNormalization(axis=-1))\n",
    "model.add(MaxPooling2D(pool_size=(2,2)))\n",
    "\n",
    "model.add(Conv2D(64, kernel_size=(3, 3), activation='relu'))\n",
    "model.add(BatchNormalization(axis=-1))\n",
    "model.add(MaxPooling2D(pool_size=(2,2)))\n",
    "\n",
    "model.add(Flatten())\n",
    "model.add(Dense(16, activation='relu'))\n",
    "model.add(BatchNormalization(axis=-1))\n",
    "model.add(Dropout(.5))\n",
    "\n",
    "model.add(Dense(3, activation ='tanh'))\n",
    "\n",
    "model.compile(loss='mse',\n",
    "              optimizer='adadelta', metrics=['accuracy'])"
   ]
  },
  {
   "cell_type": "code",
   "execution_count": 12,
   "metadata": {
    "id": "Tjit2cNVnHAF"
   },
   "outputs": [
    {
     "name": "stdout",
     "output_type": "stream",
     "text": [
      "Model: \"sequential\"\n",
      "_________________________________________________________________\n",
      " Layer (type)                Output Shape              Param #   \n",
      "=================================================================\n",
      " conv2d (Conv2D)             (None, 62, 62, 16)        160       \n",
      "                                                                 \n",
      " batch_normalization (BatchN  (None, 62, 62, 16)       64        \n",
      " ormalization)                                                   \n",
      "                                                                 \n",
      " max_pooling2d (MaxPooling2D  (None, 31, 31, 16)       0         \n",
      " )                                                               \n",
      "                                                                 \n",
      " conv2d_1 (Conv2D)           (None, 29, 29, 32)        4640      \n",
      "                                                                 \n",
      " batch_normalization_1 (Batc  (None, 29, 29, 32)       128       \n",
      " hNormalization)                                                 \n",
      "                                                                 \n",
      " max_pooling2d_1 (MaxPooling  (None, 14, 14, 32)       0         \n",
      " 2D)                                                             \n",
      "                                                                 \n",
      " conv2d_2 (Conv2D)           (None, 12, 12, 64)        18496     \n",
      "                                                                 \n",
      " batch_normalization_2 (Batc  (None, 12, 12, 64)       256       \n",
      " hNormalization)                                                 \n",
      "                                                                 \n",
      " max_pooling2d_2 (MaxPooling  (None, 6, 6, 64)         0         \n",
      " 2D)                                                             \n",
      "                                                                 \n",
      " flatten (Flatten)           (None, 2304)              0         \n",
      "                                                                 \n",
      " dense (Dense)               (None, 16)                36880     \n",
      "                                                                 \n",
      " batch_normalization_3 (Batc  (None, 16)               64        \n",
      " hNormalization)                                                 \n",
      "                                                                 \n",
      " dropout (Dropout)           (None, 16)                0         \n",
      "                                                                 \n",
      " dense_1 (Dense)             (None, 3)                 51        \n",
      "                                                                 \n",
      "=================================================================\n",
      "Total params: 60,739\n",
      "Trainable params: 60,483\n",
      "Non-trainable params: 256\n",
      "_________________________________________________________________\n"
     ]
    }
   ],
   "source": [
    "model.summary()"
   ]
  },
  {
   "cell_type": "code",
   "execution_count": 13,
   "metadata": {
    "id": "Yah7FiUbnHAF"
   },
   "outputs": [
    {
     "name": "stdout",
     "output_type": "stream",
     "text": [
      "Epoch 1/50\n"
     ]
    },
    {
     "name": "stderr",
     "output_type": "stream",
     "text": [
      "C:\\Users\\Bharath\\AppData\\Local\\Temp\\ipykernel_20200\\2818746364.py:3: UserWarning: `Model.fit_generator` is deprecated and will be removed in a future version. Please use `Model.fit`, which supports generators.\n",
      "  history = model.fit_generator(datagen,validation_data=validationdatagen, validation_steps=100,steps_per_epoch=100, epochs=50)\n"
     ]
    },
    {
     "name": "stdout",
     "output_type": "stream",
     "text": [
      "100/100 [==============================] - 7s 63ms/step - loss: 0.8059 - accuracy: 0.3475 - val_loss: 0.2391 - val_accuracy: 0.3038\n",
      "Epoch 2/50\n",
      "100/100 [==============================] - 7s 68ms/step - loss: 0.8079 - accuracy: 0.3506 - val_loss: 0.2877 - val_accuracy: 0.2700\n",
      "Epoch 3/50\n",
      "100/100 [==============================] - 6s 62ms/step - loss: 0.7850 - accuracy: 0.3519 - val_loss: 0.2797 - val_accuracy: 0.2691\n",
      "Epoch 4/50\n",
      "100/100 [==============================] - 7s 66ms/step - loss: 0.7715 - accuracy: 0.3678 - val_loss: 0.2777 - val_accuracy: 0.2587\n",
      "Epoch 5/50\n",
      "100/100 [==============================] - 7s 66ms/step - loss: 0.7673 - accuracy: 0.3841 - val_loss: 0.3261 - val_accuracy: 0.2766\n",
      "Epoch 6/50\n",
      "100/100 [==============================] - 7s 68ms/step - loss: 0.7685 - accuracy: 0.3791 - val_loss: 0.4240 - val_accuracy: 0.3041\n",
      "Epoch 7/50\n",
      "100/100 [==============================] - 7s 70ms/step - loss: 0.7564 - accuracy: 0.3650 - val_loss: 0.5253 - val_accuracy: 0.3225\n",
      "Epoch 8/50\n",
      "100/100 [==============================] - 9s 92ms/step - loss: 0.7611 - accuracy: 0.3734 - val_loss: 0.5789 - val_accuracy: 0.3328\n",
      "Epoch 9/50\n",
      "100/100 [==============================] - 7s 66ms/step - loss: 0.7495 - accuracy: 0.3784 - val_loss: 0.6086 - val_accuracy: 0.3400\n",
      "Epoch 10/50\n",
      "100/100 [==============================] - 6s 62ms/step - loss: 0.7424 - accuracy: 0.3738 - val_loss: 0.6063 - val_accuracy: 0.3425\n",
      "Epoch 11/50\n",
      "100/100 [==============================] - 7s 72ms/step - loss: 0.7495 - accuracy: 0.3728 - val_loss: 0.6141 - val_accuracy: 0.3528\n",
      "Epoch 12/50\n",
      "100/100 [==============================] - 7s 65ms/step - loss: 0.7436 - accuracy: 0.3781 - val_loss: 0.6212 - val_accuracy: 0.3484\n",
      "Epoch 13/50\n",
      "100/100 [==============================] - 7s 68ms/step - loss: 0.7352 - accuracy: 0.3831 - val_loss: 0.6013 - val_accuracy: 0.3347\n",
      "Epoch 14/50\n",
      "100/100 [==============================] - 7s 66ms/step - loss: 0.7434 - accuracy: 0.3647 - val_loss: 0.6094 - val_accuracy: 0.3447\n",
      "Epoch 15/50\n",
      "100/100 [==============================] - 6s 63ms/step - loss: 0.7114 - accuracy: 0.3781 - val_loss: 0.5975 - val_accuracy: 0.3388\n",
      "Epoch 16/50\n",
      "100/100 [==============================] - 7s 68ms/step - loss: 0.7153 - accuracy: 0.4019 - val_loss: 0.5971 - val_accuracy: 0.3344\n",
      "Epoch 17/50\n",
      "100/100 [==============================] - 6s 62ms/step - loss: 0.7086 - accuracy: 0.3772 - val_loss: 0.5891 - val_accuracy: 0.3409\n",
      "Epoch 18/50\n",
      "100/100 [==============================] - 7s 67ms/step - loss: 0.6917 - accuracy: 0.3828 - val_loss: 0.5862 - val_accuracy: 0.3403\n",
      "Epoch 19/50\n",
      "100/100 [==============================] - 6s 64ms/step - loss: 0.7069 - accuracy: 0.4006 - val_loss: 0.5654 - val_accuracy: 0.3494\n",
      "Epoch 20/50\n",
      "100/100 [==============================] - 6s 63ms/step - loss: 0.7027 - accuracy: 0.3862 - val_loss: 0.5604 - val_accuracy: 0.3553\n",
      "Epoch 21/50\n",
      "100/100 [==============================] - 7s 66ms/step - loss: 0.6945 - accuracy: 0.4075 - val_loss: 0.5966 - val_accuracy: 0.3478\n",
      "Epoch 22/50\n",
      "100/100 [==============================] - 6s 62ms/step - loss: 0.6823 - accuracy: 0.3897 - val_loss: 0.5611 - val_accuracy: 0.3616\n",
      "Epoch 23/50\n",
      "100/100 [==============================] - 7s 66ms/step - loss: 0.6865 - accuracy: 0.3862 - val_loss: 0.5529 - val_accuracy: 0.3600\n",
      "Epoch 24/50\n",
      "100/100 [==============================] - 6s 64ms/step - loss: 0.6893 - accuracy: 0.3928 - val_loss: 0.5531 - val_accuracy: 0.3613\n",
      "Epoch 25/50\n",
      "100/100 [==============================] - 6s 63ms/step - loss: 0.6803 - accuracy: 0.3981 - val_loss: 0.5588 - val_accuracy: 0.3509\n",
      "Epoch 26/50\n",
      "100/100 [==============================] - 7s 66ms/step - loss: 0.6800 - accuracy: 0.3806 - val_loss: 0.5459 - val_accuracy: 0.3537\n",
      "Epoch 27/50\n",
      "100/100 [==============================] - 6s 62ms/step - loss: 0.6751 - accuracy: 0.4013 - val_loss: 0.5521 - val_accuracy: 0.3503\n",
      "Epoch 28/50\n",
      "100/100 [==============================] - 6s 65ms/step - loss: 0.6774 - accuracy: 0.3953 - val_loss: 0.5537 - val_accuracy: 0.3472\n",
      "Epoch 29/50\n",
      "100/100 [==============================] - 6s 64ms/step - loss: 0.6649 - accuracy: 0.3978 - val_loss: 0.5494 - val_accuracy: 0.3500\n",
      "Epoch 30/50\n",
      "100/100 [==============================] - 6s 62ms/step - loss: 0.6793 - accuracy: 0.3903 - val_loss: 0.5483 - val_accuracy: 0.3672\n",
      "Epoch 31/50\n",
      "100/100 [==============================] - 7s 66ms/step - loss: 0.6828 - accuracy: 0.3675 - val_loss: 0.5423 - val_accuracy: 0.3622\n",
      "Epoch 32/50\n",
      "100/100 [==============================] - 7s 67ms/step - loss: 0.6713 - accuracy: 0.3894 - val_loss: 0.5273 - val_accuracy: 0.3581\n",
      "Epoch 33/50\n",
      "100/100 [==============================] - 7s 69ms/step - loss: 0.6675 - accuracy: 0.3887 - val_loss: 0.5349 - val_accuracy: 0.3625\n",
      "Epoch 34/50\n",
      "100/100 [==============================] - 6s 63ms/step - loss: 0.6590 - accuracy: 0.3850 - val_loss: 0.5233 - val_accuracy: 0.3541\n",
      "Epoch 35/50\n",
      "100/100 [==============================] - 6s 63ms/step - loss: 0.6464 - accuracy: 0.3981 - val_loss: 0.5175 - val_accuracy: 0.3537\n",
      "Epoch 36/50\n",
      "100/100 [==============================] - 6s 65ms/step - loss: 0.6466 - accuracy: 0.4087 - val_loss: 0.5207 - val_accuracy: 0.3594\n",
      "Epoch 37/50\n",
      "100/100 [==============================] - 6s 61ms/step - loss: 0.6600 - accuracy: 0.3981 - val_loss: 0.5121 - val_accuracy: 0.3447\n",
      "Epoch 38/50\n",
      "100/100 [==============================] - 7s 66ms/step - loss: 0.6426 - accuracy: 0.4003 - val_loss: 0.5226 - val_accuracy: 0.3638\n",
      "Epoch 39/50\n",
      "100/100 [==============================] - 7s 70ms/step - loss: 0.6421 - accuracy: 0.4172 - val_loss: 0.5249 - val_accuracy: 0.3622\n",
      "Epoch 40/50\n",
      "100/100 [==============================] - 7s 69ms/step - loss: 0.6414 - accuracy: 0.4150 - val_loss: 0.5179 - val_accuracy: 0.3666\n",
      "Epoch 41/50\n",
      "100/100 [==============================] - 7s 68ms/step - loss: 0.6410 - accuracy: 0.3853 - val_loss: 0.5158 - val_accuracy: 0.3628\n",
      "Epoch 42/50\n",
      "100/100 [==============================] - 6s 63ms/step - loss: 0.6307 - accuracy: 0.4044 - val_loss: 0.5197 - val_accuracy: 0.3634\n",
      "Epoch 43/50\n",
      "100/100 [==============================] - 7s 69ms/step - loss: 0.6385 - accuracy: 0.4147 - val_loss: 0.5104 - val_accuracy: 0.3659\n",
      "Epoch 44/50\n",
      "100/100 [==============================] - 6s 63ms/step - loss: 0.6262 - accuracy: 0.4137 - val_loss: 0.5055 - val_accuracy: 0.3803\n",
      "Epoch 45/50\n",
      "100/100 [==============================] - 7s 67ms/step - loss: 0.6211 - accuracy: 0.4178 - val_loss: 0.4954 - val_accuracy: 0.3828\n",
      "Epoch 46/50\n",
      "100/100 [==============================] - 7s 65ms/step - loss: 0.6286 - accuracy: 0.4059 - val_loss: 0.4950 - val_accuracy: 0.3738\n",
      "Epoch 47/50\n",
      "100/100 [==============================] - 6s 64ms/step - loss: 0.6287 - accuracy: 0.4000 - val_loss: 0.5015 - val_accuracy: 0.3706\n",
      "Epoch 48/50\n",
      "100/100 [==============================] - 7s 68ms/step - loss: 0.6317 - accuracy: 0.3978 - val_loss: 0.4903 - val_accuracy: 0.3753\n",
      "Epoch 49/50\n",
      "100/100 [==============================] - 6s 63ms/step - loss: 0.6206 - accuracy: 0.4019 - val_loss: 0.4791 - val_accuracy: 0.3859\n",
      "Epoch 50/50\n",
      "100/100 [==============================] - 7s 67ms/step - loss: 0.6093 - accuracy: 0.4241 - val_loss: 0.4910 - val_accuracy: 0.3719\n"
     ]
    }
   ],
   "source": [
    "# train and visualize loss\n",
    "\n",
    "history = model.fit_generator(datagen,validation_data=validationdatagen, validation_steps=100,steps_per_epoch=100, epochs=50)"
   ]
  },
  {
   "cell_type": "code",
   "execution_count": null,
   "metadata": {},
   "outputs": [],
   "source": [
    "model.evaluate_generator(datagen, 32)\n"
   ]
  },
  {
   "cell_type": "code",
   "execution_count": 138,
   "metadata": {},
   "outputs": [
    {
     "name": "stdout",
     "output_type": "stream",
     "text": [
      "84\n"
     ]
    }
   ],
   "source": [
    "print(len(images))"
   ]
  },
  {
   "cell_type": "code",
   "execution_count": 139,
   "metadata": {
    "id": "3x67V_efnHAG"
   },
   "outputs": [
    {
     "name": "stdout",
     "output_type": "stream",
     "text": [
      "307.6484266469546\n",
      "Predicting 122 images...\n",
      "Average error in z: 1.3400540868918005\n"
     ]
    }
   ],
   "source": [
    "# show predictions and write results\n",
    "import csv\n",
    "shift=.2\n",
    "#print(validationimages)\n",
    "stack = random.choice(validationimages)\n",
    "#print(len(stack))\n",
    "X, Y = random.choice(stack[0]['XY'])\n",
    "print(X)\n",
    "n_spots = len(stack[0]['XY'])\n",
    "xcrop, ycrop = tuple(int(p + random.uniform(-1*shift, shift)) for p in (X, Y))\n",
    "#print(n_spots)\n",
    "n_depths = len(stack[0]['Z'])\n",
    "#print(n_depths)\n",
    "z_vals = [float(v) for v in list(stack[0]['Z'].values())]           \n",
    "\n",
    "testdatagen = tile_generator(validationimages, n_spots*n_depths, input_size, 0, False)\n",
    "#testdatagen = tile_generator(validationimages, 50, input_size, 0, True)\n",
    "\n",
    "\n",
    "batch = next(testdatagen)\n",
    "#print(len(batch[0][1]))\n",
    "print('Predicting ' + str(len(batch[0])) + \" images...\")\n",
    "\n",
    "cumulative_error = 0\n",
    "\n",
    "plot = False\n",
    "\n",
    "%matplotlib inline\n",
    "\n",
    "with open('res.csv', 'w', newline='') as csvfile:\n",
    "    \n",
    "    # Instantiate writer and write row names\n",
    "    reswriter = csv.writer(csvfile)\n",
    "    reswriter.writerow(['x_train', 'y_train', 'z_train', \\\n",
    "                        'x_pred', 'y_pred','z_pred'])\n",
    "    #print(batch[0])\n",
    "    for samplenum in range(len(batch[0])):\n",
    "        #print(len(batch[0]))\n",
    "        #print(batch)\n",
    "        predictions = model.predict_on_batch(batch[0])\n",
    "        #print(predictions) \n",
    "        #print(samplenum)\n",
    "        img = batch[0][samplenum][:,:,0]\n",
    "        #print(img)\n",
    "        x_train, y_train, z = batch[1][samplenum]\n",
    "        #inverse Normalization\n",
    "        X_train = x_train * input_size + (xcrop - input_size // 2)\n",
    "        Y_train = y_train * input_size + (ycrop - input_size // 2)\n",
    "        #print(samplenum)    \n",
    "     \n",
    "        x_pred, y_pred, z_pred = predictions[samplenum]\n",
    "        X = x_pred * input_size + (xcrop - input_size // 2)\n",
    "        Y = y_pred * input_size + (ycrop - input_size // 2)\n",
    "        Z_pred = (z_pred + 1) / 2 * ((max(z_vals) - min(z_vals)) + min(z_vals))\n",
    "        \n",
    "        \n",
    "        #print(x_pred)\n",
    "        z_vals = [float(v) for v in list(images[0][0]['Z'].values())]\n",
    "        z,z_pred = [(d + 1) * ((max(z_vals)-min(z_vals))/2) + min(z_vals) for d in [z,z_pred]]\n",
    "        \n",
    "        cumulative_error += abs(z-z_pred)\n",
    "        \n",
    "        # Write row to CSV\n",
    "        reswriter.writerow([X_train, Y_train, z, \\\n",
    "                           X, Y, z_pred])\n",
    "        \n",
    "        \n",
    "\n",
    "        #print(\"target z:\" + str(z) + '\\npredicted z:' + str(z_pred))\n",
    "\n",
    "        if plot:\n",
    "            plt.figure()\n",
    "            plt.imshow(img)\n",
    "            plt.plot(input_size*x_train, input_size*y_train, 'bo')\n",
    "            plt.plot(input_size*x_pred, input_size*y_pred, 'rX')\n",
    "            plt.axis('off')\n",
    "            plt.show()\n",
    "\n",
    "avg_error = cumulative_error/len(batch[0])\n",
    "print(\"Average error in z: {}\".format(avg_error))"
   ]
  },
  {
   "cell_type": "code",
   "execution_count": null,
   "metadata": {},
   "outputs": [],
   "source": [
    "stack = random.choice(validationimages)\n",
    "\n",
    "n_spots = len(stack[0]['XY'])\n",
    "n_depths = len(stack[0]['Z'])\n",
    "#print(n_spots)\n",
    "testdatagen = tile_generator(images, n_spots*n_depths, input_size, 0, False)\n",
    "\n",
    "batch = next(testdatagen)\n",
    "#print(batch)\n",
    "print(stack)"
   ]
  },
  {
   "cell_type": "code",
   "execution_count": null,
   "metadata": {},
   "outputs": [],
   "source": []
  },
  {
   "cell_type": "code",
   "execution_count": null,
   "metadata": {},
   "outputs": [],
   "source": []
  },
  {
   "cell_type": "code",
   "execution_count": null,
   "metadata": {},
   "outputs": [],
   "source": []
  },
  {
   "cell_type": "code",
   "execution_count": null,
   "metadata": {},
   "outputs": [],
   "source": [
    "validation_loss, val_acc = model.evaluate_generator(validationdatagen, steps=32)\n",
    "print('Train: %.3f, Test: %.3f' % (validation_loss, val_acc))"
   ]
  },
  {
   "cell_type": "code",
   "execution_count": null,
   "metadata": {
    "id": "R6Dv6qbwnHAG"
   },
   "outputs": [],
   "source": [
    "# Plot training & validation loss values\n",
    "plt.plot(history.history['loss'])\n",
    "plt.plot(history.history['val_loss'])\n",
    "plt.title('Model loss')\n",
    "plt.ylabel('Loss')\n",
    "plt.xlabel('Epoch')\n",
    "plt.legend(['Train', 'Validation'], loc='upper left')\n",
    "plt.show()"
   ]
  },
  {
   "cell_type": "code",
   "execution_count": null,
   "metadata": {},
   "outputs": [],
   "source": []
  },
  {
   "cell_type": "code",
   "execution_count": null,
   "metadata": {},
   "outputs": [],
   "source": []
  }
 ],
 "metadata": {
  "colab": {
   "name": "train+test.ipynb",
   "provenance": []
  },
  "kernelspec": {
   "display_name": "Python 3 (ipykernel)",
   "language": "python",
   "name": "python3"
  },
  "language_info": {
   "codemirror_mode": {
    "name": "ipython",
    "version": 3
   },
   "file_extension": ".py",
   "mimetype": "text/x-python",
   "name": "python",
   "nbconvert_exporter": "python",
   "pygments_lexer": "ipython3",
   "version": "3.9.13"
  }
 },
 "nbformat": 4,
 "nbformat_minor": 1
}
