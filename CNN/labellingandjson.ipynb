{
 "cells": [
  {
   "cell_type": "code",
   "execution_count": 39,
   "id": "94eb7767",
   "metadata": {},
   "outputs": [
    {
     "name": "stdout",
     "output_type": "stream",
     "text": [
      "Img file path:C:\\Users\\Bharath\\OneDrive\\Desktop\\cnn3\\test\\2.3.22_SPP_Fov10_1_NDTiffStack (1).tif\n",
      "Depth file path:C:\\Users\\Bharath\\OneDrive\\Desktop\\cnn3\\test\\2.3.22_info_Sample_5-17-21_2_Fov10.txt\n",
      "Column Number:1\n"
     ]
    }
   ],
   "source": [
    "import matplotlib\n",
    "matplotlib.use('TkAgg')\n",
    "import matplotlib.pyplot as plt\n",
    "import numpy as np\n",
    "from skimage import io\n",
    "imgpath = input(\"Img file path:\")\n",
    "# Load top image\n",
    "img = io.imread(imgpath)\n",
    "depthfile = input(\"Depth file path:\")\n",
    "clnum = int(input(\"Column Number:\"))\n",
    "#enter the image file as your tif file\n",
    "#Depth file path\n",
    "#column number as 1"
   ]
  },
  {
   "cell_type": "code",
   "execution_count": 40,
   "id": "6da4a92a",
   "metadata": {},
   "outputs": [
    {
     "name": "stdout",
     "output_type": "stream",
     "text": [
      "691\n"
     ]
    }
   ],
   "source": [
    "tmpdepth = []\n",
    "with open(depthfile) as f:\n",
    "     for line in f:\n",
    "           \n",
    "        try:\n",
    "            #print(line)\n",
    "            tmpdepth.append(line.split(\" \")[clnum-1])\n",
    "        except IndexError:\n",
    "            pass\n",
    "        tmpdepth1 = tmpdepth[5:]\n",
    "        #some format of depth files were different so you can use 2 or 5 based on the file content\n",
    "        #print(tmpdepth[2:])\n",
    "print(len(tmpdepth1))"
   ]
  },
  {
   "cell_type": "code",
   "execution_count": 41,
   "id": "57bcb628",
   "metadata": {},
   "outputs": [
    {
     "name": "stdout",
     "output_type": "stream",
     "text": [
      "Found 61 slices.\n",
      "Select spots. Left click to add, Right click to remove, Enter or middle click to submit full set.\n"
     ]
    }
   ],
   "source": [
    "n_slices = img.shape[0]\n",
    "\n",
    "print(\"Found \"  + str(n_slices) + \" slices.\")\n",
    "\n",
    "plt.rcParams['figure.figsize'] = [15, 15]\n",
    "\n",
    "depths = {}\n",
    "\n",
    "# Get general mid slice to get a decent idea for spiral centers to label\n",
    "# TODO: Identify better slice to help for precise labelling \n",
    "\n",
    "for i in range(0, n_slices):\n",
    "    depths[str(i)] = tmpdepth1[i]\n",
    "    #print(depths)\n",
    "    #depths[str(i+1)] = tmpdepth1[i]\n",
    "    \n",
    "    \n",
    "\n",
    "position_source = n_slices//2\n",
    "depths = {k: v.replace('\\n', '') for k, v in depths.items()}\n",
    "# pick spot XY positions\n",
    "print(\"Select spots. Left click to add, Right click to remove, Enter or middle click to submit full set.\")\n",
    "plt.figure()\n",
    "plt.imshow(img[position_source,:,:])\n",
    "plt.axis('off')\n",
    "coords = plt.ginput(-1, -1, True, 1, 3, 2)\n",
    "\n"
   ]
  },
  {
   "cell_type": "code",
   "execution_count": 42,
   "id": "388413a6",
   "metadata": {},
   "outputs": [],
   "source": [
    "import os\n",
    "import json\n",
    "\n",
    "# save training data as json file\n",
    "with open(imgpath + '.json', 'w') as outfile:\n",
    "    \n",
    "    json.dump({\n",
    "        'XY': coords,\n",
    "        'Z': depths\n",
    "        }, outfile, indent=4)"
   ]
  },
  {
   "cell_type": "code",
   "execution_count": null,
   "id": "a40280d8",
   "metadata": {},
   "outputs": [],
   "source": []
  },
  {
   "cell_type": "code",
   "execution_count": null,
   "id": "9cc56b17",
   "metadata": {},
   "outputs": [],
   "source": []
  }
 ],
 "metadata": {
  "kernelspec": {
   "display_name": "Python 3 (ipykernel)",
   "language": "python",
   "name": "python3"
  },
  "language_info": {
   "codemirror_mode": {
    "name": "ipython",
    "version": 3
   },
   "file_extension": ".py",
   "mimetype": "text/x-python",
   "name": "python",
   "nbconvert_exporter": "python",
   "pygments_lexer": "ipython3",
   "version": "3.9.13"
  }
 },
 "nbformat": 4,
 "nbformat_minor": 5
}
